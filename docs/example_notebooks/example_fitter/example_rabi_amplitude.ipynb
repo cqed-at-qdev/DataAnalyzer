{
    "cells": [
        {
            "attachments": {},
            "cell_type": "markdown",
            "metadata": {},
            "source": [
                "# Example 1: Fitting Amplitude Rabi ocilations \n",
                "###### Author: Malthe Asmus Marciniak Nielsen\n",
                "\n",
                "This example shows how to plot and fit Rabi ocilations using a DampedOscillationModel."
            ]
        },
        {
            "attachments": {},
            "cell_type": "markdown",
            "metadata": {},
            "source": [
                "## Step 1: Import packages \n",
                "We import both the Plotter, Fitter, fitmodels, load_labber_file and os. load_labber_file is required to exstrate the data from Labber files."
            ]
        },
        {
            "cell_type": "code",
            "execution_count": 1,
            "metadata": {},
            "outputs": [],
            "source": [
                "from dataanalyzer import Plotter, Fitter, fitmodels, load_labber_file\n",
                "import os"
            ]
        },
        {
            "attachments": {},
            "cell_type": "markdown",
            "metadata": {},
            "source": [
                "# Step 2: Load the data\n",
                "We load the data using os and load_labber_file. If inspect = True in load_labber_file, the parameter names will be automatically printed."
            ]
        },
        {
            "cell_type": "code",
            "execution_count": 2,
            "metadata": {},
            "outputs": [],
            "source": [
                "z_drive = r\"Z:\\Malthe\\DataAnalyzer\\sample_data\"\n",
                "path = os.path.join(z_drive, \"Data_Rabi_Amplitude.hdf5\")\n",
                "\n",
                "amp, pulse = load_labber_file(path, insepct=True)\n",
                "\n",
                "pulse = pulse.real # pick only the real part of the data"
            ]
        },
        {
            "attachments": {},
            "cell_type": "markdown",
            "metadata": {},
            "source": [
                "# Step 3: Initalize Fiiter\n",
                "We initialize the Fitter and defines the function for fitting. Then we do the fit."
            ]
        },
        {
            "cell_type": "code",
            "execution_count": null,
            "metadata": {},
            "outputs": [],
            "source": [
                "# Setting up function\n",
                "func = fitmodels.DampedOscillationModel()\n",
                "\n",
                "# Initialize fitter\n",
                "fit = Fitter(x=amp, y=pulse, func=func)\n",
                "\n",
                "# Fit data\n",
                "amp_fit, pulse_fit, params, report = fit.do_fit()"
            ]
        },
        {
            "attachments": {},
            "cell_type": "markdown",
            "metadata": {},
            "source": [
                "# Step 4: Initalize Plotter\n",
                "We plot the data and the fitted model along with a vertical line at the center value."
            ]
        },
        {
            "cell_type": "code",
            "execution_count": null,
            "metadata": {},
            "outputs": [],
            "source": [
                "# Initialize plotter\n",
                "plot = Plotter()\n",
                "\n",
                "# Add data\n",
                "plot.scatter(amp, pulse, label=\"Data\", s=30)\n",
                "plot.plot(x=amp_fit, y=pulse_fit, label=\"Fitted\")"
            ]
        },
        {
            "attachments": {},
            "cell_type": "markdown",
            "metadata": {},
            "source": [
                "# Step 5: Add residuals\n",
                "We calculate the residuals and plot them."
            ]
        },
        {
            "cell_type": "code",
            "execution_count": null,
            "metadata": {},
            "outputs": [],
            "source": [
                "# Calculate residuals\n",
                "params_values = {key: param[\"value\"] for key, param in params.items()}\n",
                "difference = pulse - func.func(x=amp.value, **params_values)\n",
                "\n",
                "# Add residuals\n",
                "plot.add_xresiuals(amp, difference)\n",
                "\n",
                "# Add report to plot (metadata)\n",
                "plot.add_metadata(report)\n",
                "\n",
                "# Show plot\n",
                "plot.show()"
            ]
        }
    ],
    "metadata": {
        "kernelspec": {
            "display_name": "Labber_env",
            "language": "python",
            "name": "python3"
        },
        "language_info": {
            "codemirror_mode": {
                "name": "ipython",
                "version": 3
            },
            "file_extension": ".py",
            "mimetype": "text/x-python",
            "name": "python",
            "nbconvert_exporter": "python",
            "pygments_lexer": "ipython3",
            "version": "3.9.15"
        },
        "orig_nbformat": 4,
        "vscode": {
            "interpreter": {
                "hash": "ca4c6fd4d40c001df41866b01caef6587cc227479a982a065c7f1f5571b5cc92"
            }
        }
    },
    "nbformat": 4,
    "nbformat_minor": 2
}
