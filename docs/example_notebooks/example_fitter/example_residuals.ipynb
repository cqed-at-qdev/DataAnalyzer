{
    "cells": [
        {
            "attachments": {},
            "cell_type": "markdown",
            "metadata": {},
            "source": [
                "# Example 2: Fitting 2D data with polynomial\n",
                "###### Author: Malthe Asmus Marciniak Nielsen\n",
                "\n",
                "This example shows how to plot 2D data and fit it with a polynomial model. This plots the data in two separate subplots."
            ]
        },
        {
            "attachments": {},
            "cell_type": "markdown",
            "metadata": {},
            "source": [
                "## Step 1: Import packages \n",
                "We import both the Plotter, Fitter, fitmodels, load_labber_file and os. load_labber_file is required to exstrate the data from Labber files."
            ]
        },
        {
            "cell_type": "code",
            "execution_count": 1,
            "metadata": {},
            "outputs": [],
            "source": [
                "from dataanalyzer import Plotter, Fitter, fitmodels, load_labber_file\n",
                "import os"
            ]
        },
        {
            "attachments": {},
            "cell_type": "markdown",
            "metadata": {},
            "source": [
                "# Step 2: Load the data\n",
                "We load the data using os and load_labber_file. If inspect = True in load_labber_file, the parameter names will be automatically printed."
            ]
        },
        {
            "cell_type": "code",
            "execution_count": 2,
            "metadata": {},
            "outputs": [
                {
                    "name": "stdout",
                    "output_type": "stream",
                    "text": [
                        "Insepcting Json File...\n",
                        "File is containing 1 parameters:\n",
                        "\tRS Readout - Frequency\n",
                        "File is containing 1 results:\n",
                        "\tPulse Generator - Voltage, QB1\n"
                    ]
                }
            ],
            "source": [
                "z_drive = r\"Z:\\Malthe\\DataAnalyzer\\sample_data\"\n",
                "path = os.path.join(z_drive, \"Data_Resonator_Frequency.hdf5\")\n",
                "\n",
                "freq, pulse = load_labber_file(path, insepct=True)"
            ]
        },
        {
            "attachments": {},
            "cell_type": "markdown",
            "metadata": {},
            "source": [
                "# Step 3: Initalize Fitter\n",
                "We initialize the Fitter and defines the function for fitting. Then we do the fit."
            ]
        },
        {
            "cell_type": "code",
            "execution_count": 3,
            "metadata": {},
            "outputs": [
                {
                    "ename": "AttributeError",
                    "evalue": "'LorentzianPolynomialModel' object has no attribute '_root2symbol'",
                    "output_type": "error",
                    "traceback": [
                        "\u001b[1;31m---------------------------------------------------------------------------\u001b[0m",
                        "\u001b[1;31mAttributeError\u001b[0m                            Traceback (most recent call last)",
                        "Cell \u001b[1;32mIn[3], line 8\u001b[0m\n\u001b[0;32m      5\u001b[0m fit \u001b[39m=\u001b[39m Fitter(x\u001b[39m=\u001b[39mfreq, y\u001b[39m=\u001b[39mpulse\u001b[39m.\u001b[39mabs, func\u001b[39m=\u001b[39mfunc)\n\u001b[0;32m      7\u001b[0m \u001b[39m# Fit data\u001b[39;00m\n\u001b[1;32m----> 8\u001b[0m freq_fit, pulse_fit, params, report \u001b[39m=\u001b[39m fit\u001b[39m.\u001b[39;49mdo_fit()\n",
                        "File \u001b[1;32mc:\\users\\t5_2\\documents\\github\\dataanalyzer\\dataanalyzer\\fitter\\fitter_main.py:240\u001b[0m, in \u001b[0;36mFitter.do_fit\u001b[1;34m(self, linspace_start, linspace_stop, linspace_steps, **kwargs)\u001b[0m\n\u001b[0;32m    222\u001b[0m \u001b[39mdef\u001b[39;00m \u001b[39mdo_fit\u001b[39m(\n\u001b[0;32m    223\u001b[0m     \u001b[39mself\u001b[39m,\n\u001b[0;32m    224\u001b[0m     linspace_start\u001b[39m=\u001b[39m\u001b[39mNone\u001b[39;00m,\n\u001b[1;32m   (...)\u001b[0m\n\u001b[0;32m    227\u001b[0m     \u001b[39m*\u001b[39m\u001b[39m*\u001b[39mkwargs,\n\u001b[0;32m    228\u001b[0m ) \u001b[39m-\u001b[39m\u001b[39m>\u001b[39m \u001b[39mtuple\u001b[39m[np\u001b[39m.\u001b[39mndarray, np\u001b[39m.\u001b[39mndarray, \u001b[39mdict\u001b[39m, \u001b[39mstr\u001b[39m]:\n\u001b[0;32m    229\u001b[0m     \u001b[39m\"\"\"Do the fit\u001b[39;00m\n\u001b[0;32m    230\u001b[0m \n\u001b[0;32m    231\u001b[0m \u001b[39m    Args:\u001b[39;00m\n\u001b[1;32m   (...)\u001b[0m\n\u001b[0;32m    238\u001b[0m \u001b[39m        Union[tuple[np.ndarray, np.ndarray, str], str]: If return_linspace is True a tuple with the linspace, the evaluated function and the latex string is returned. If return_linspace is False only the latex string is returned\u001b[39;00m\n\u001b[0;32m    239\u001b[0m \u001b[39m    \"\"\"\u001b[39;00m\n\u001b[1;32m--> 240\u001b[0m     \u001b[39mself\u001b[39;49m\u001b[39m.\u001b[39;49m_do_fit()\n\u001b[0;32m    242\u001b[0m     return_dict \u001b[39m=\u001b[39m {}\n\u001b[0;32m    244\u001b[0m     \u001b[39mif\u001b[39;00m kwargs\u001b[39m.\u001b[39mpop(\u001b[39m\"\u001b[39m\u001b[39mreturn_fit_array\u001b[39m\u001b[39m\"\u001b[39m, \u001b[39mTrue\u001b[39;00m):\n",
                        "File \u001b[1;32mc:\\users\\t5_2\\documents\\github\\dataanalyzer\\dataanalyzer\\fitter\\fitter_main.py:271\u001b[0m, in \u001b[0;36mFitter._do_fit\u001b[1;34m(self)\u001b[0m\n\u001b[0;32m    269\u001b[0m \u001b[39mself\u001b[39m\u001b[39m.\u001b[39mset_minuit()\n\u001b[0;32m    270\u001b[0m \u001b[39mself\u001b[39m\u001b[39m.\u001b[39mminuit\u001b[39m.\u001b[39mmigrad()\n\u001b[1;32m--> 271\u001b[0m \u001b[39mself\u001b[39;49m\u001b[39m.\u001b[39;49m_calculate_prob_and_make_report()\n\u001b[0;32m    272\u001b[0m \u001b[39mself\u001b[39m\u001b[39m.\u001b[39mparams \u001b[39m=\u001b[39m \u001b[39mself\u001b[39m\u001b[39m.\u001b[39mget_params()\n\u001b[0;32m    273\u001b[0m \u001b[39mself\u001b[39m\u001b[39m.\u001b[39m_fitted \u001b[39m=\u001b[39m \u001b[39mTrue\u001b[39;00m\n",
                        "File \u001b[1;32mc:\\users\\t5_2\\documents\\github\\dataanalyzer\\dataanalyzer\\fitter\\fitter_main.py:320\u001b[0m, in \u001b[0;36mFitter._calculate_prob_and_make_report\u001b[1;34m(self)\u001b[0m\n\u001b[0;32m    318\u001b[0m \u001b[39mself\u001b[39m\u001b[39m.\u001b[39mchi2 \u001b[39m=\u001b[39m \u001b[39mself\u001b[39m\u001b[39m.\u001b[39mminuit\u001b[39m.\u001b[39mfval  \u001b[39m# The chi2 value\u001b[39;00m\n\u001b[0;32m    319\u001b[0m \u001b[39mself\u001b[39m\u001b[39m.\u001b[39mprob \u001b[39m=\u001b[39m stats\u001b[39m.\u001b[39mchi2\u001b[39m.\u001b[39msf(\u001b[39mself\u001b[39m\u001b[39m.\u001b[39mchi2, \u001b[39mself\u001b[39m\u001b[39m.\u001b[39mndof)  \u001b[39m# The chi2 probability\u001b[39;00m\n\u001b[1;32m--> 320\u001b[0m \u001b[39mself\u001b[39;49m\u001b[39m.\u001b[39;49m_update_iminuit_report()\n",
                        "File \u001b[1;32mc:\\users\\t5_2\\documents\\github\\dataanalyzer\\dataanalyzer\\fitter\\fitter_main.py:325\u001b[0m, in \u001b[0;36mFitter._update_iminuit_report\u001b[1;34m(self)\u001b[0m\n\u001b[0;32m    323\u001b[0m \u001b[39m\"\"\"Update the iminuit report\"\"\"\u001b[39;00m\n\u001b[0;32m    324\u001b[0m \u001b[39mself\u001b[39m\u001b[39m.\u001b[39m_update_iminuit_report_with_function()\n\u001b[1;32m--> 325\u001b[0m \u001b[39mself\u001b[39;49m\u001b[39m.\u001b[39;49m_update_imuniut_report_with_parameters()\n\u001b[0;32m    326\u001b[0m \u001b[39mself\u001b[39m\u001b[39m.\u001b[39m_update_iminuit_report_with_statistics()\n",
                        "File \u001b[1;32mc:\\users\\t5_2\\documents\\github\\dataanalyzer\\dataanalyzer\\fitter\\fitter_main.py:348\u001b[0m, in \u001b[0;36mFitter._update_imuniut_report_with_parameters\u001b[1;34m(self)\u001b[0m\n\u001b[0;32m    346\u001b[0m \u001b[39mif\u001b[39;00m key \u001b[39min\u001b[39;00m \u001b[39mself\u001b[39m\u001b[39m.\u001b[39mparam_names:\n\u001b[0;32m    347\u001b[0m     unit \u001b[39m=\u001b[39m \u001b[39mf\u001b[39m\u001b[39m\"\u001b[39m\u001b[39m$\u001b[39m\u001b[39m{\u001b[39;00munit_names[key]\u001b[39m}\u001b[39;00m\u001b[39m$\u001b[39m\u001b[39m\"\u001b[39m \u001b[39mif\u001b[39;00m unit_names \u001b[39melse\u001b[39;00m \u001b[39m\"\u001b[39m\u001b[39m\"\u001b[39m\n\u001b[1;32m--> 348\u001b[0m     name \u001b[39m=\u001b[39m \u001b[39mf\u001b[39m\u001b[39m\"\u001b[39m\u001b[39m$\u001b[39m\u001b[39m{\u001b[39;00m\u001b[39mself\u001b[39;49m\u001b[39m.\u001b[39;49mfunc\u001b[39m.\u001b[39;49m_root2symbol[key]\u001b[39m}\u001b[39;00m\u001b[39m$\u001b[39m\u001b[39m\"\u001b[39m\n\u001b[0;32m    349\u001b[0m     \u001b[39mself\u001b[39m\u001b[39m.\u001b[39m_add_parameter_string(unit, name, val, err)\n\u001b[0;32m    351\u001b[0m \u001b[39mif\u001b[39;00m poly_degree \u001b[39mis\u001b[39;00m \u001b[39mnot\u001b[39;00m \u001b[39mNone\u001b[39;00m \u001b[39mand\u001b[39;00m i \u001b[39m>\u001b[39m poly_degree:\n",
                        "\u001b[1;31mAttributeError\u001b[0m: 'LorentzianPolynomialModel' object has no attribute '_root2symbol'"
                    ]
                }
            ],
            "source": [
                "# Setting up function\n",
                "func = fitmodels.LorentzianPolynomialModel(degree=3, negative_peak=True)\n",
                "\n",
                "# Initialize fitter\n",
                "fit = Fitter(x=freq, y=pulse.abs, func=func)\n",
                "\n",
                "# Fit data\n",
                "freq_fit, pulse_fit, params, report = fit.do_fit()"
            ]
        },
        {
            "attachments": {},
            "cell_type": "markdown",
            "metadata": {},
            "source": [
                "# Step 4: Initalize Plotter\n",
                "We plot the data and the fitted model in two separate subplots."
            ]
        },
        {
            "cell_type": "code",
            "execution_count": null,
            "metadata": {},
            "outputs": [],
            "source": [
                "# Initialize plotter\n",
                "plot = Plotter()\n",
                "\n",
                "# Add data\n",
                "plot.scatter(freq, pulse.abs, label=\"Data\", s=30)\n",
                "plot.plot(x=freq_fit, y=pulse_fit, label=\"Fitted\")\n",
                "\n",
                "# Add center\n",
                "plot.axvline(params[\"center\"][\"value\"], label=\"Center\")"
            ]
        },
        {
            "attachments": {},
            "cell_type": "markdown",
            "metadata": {},
            "source": [
                "# Step 5: Add residuals\n",
                "We calculate the residuals and plot them."
            ]
        },
        {
            "cell_type": "code",
            "execution_count": null,
            "metadata": {},
            "outputs": [],
            "source": [
                " # Calculate residuals\n",
                "params_values = {key: param[\"value\"] for key, param in params.items()}\n",
                "difference = pulse.abs - func.func(x=freq.value, **params_values)\n",
                "\n",
                "# Add residuals\n",
                "plot.add_xresiuals(freq.value, difference)\n",
                "\n",
                "# Add report to plot (metadata)\n",
                "plot.add_metadata(report)\n",
                "\n",
                "# Show plot\n",
                "plot.show()"
            ]
        }
    ],
    "metadata": {
        "kernelspec": {
            "display_name": "Labber_env",
            "language": "python",
            "name": "python3"
        },
        "language_info": {
            "codemirror_mode": {
                "name": "ipython",
                "version": 3
            },
            "file_extension": ".py",
            "mimetype": "text/x-python",
            "name": "python",
            "nbconvert_exporter": "python",
            "pygments_lexer": "ipython3",
            "version": "3.9.15"
        },
        "orig_nbformat": 4,
        "vscode": {
            "interpreter": {
                "hash": "ca4c6fd4d40c001df41866b01caef6587cc227479a982a065c7f1f5571b5cc92"
            }
        }
    },
    "nbformat": 4,
    "nbformat_minor": 2
}
